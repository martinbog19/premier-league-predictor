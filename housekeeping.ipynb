{
 "cells": [
  {
   "cell_type": "code",
   "execution_count": 1,
   "metadata": {},
   "outputs": [],
   "source": [
    "# Packages\n",
    "import requests\n",
    "from bs4 import BeautifulSoup\n",
    "import requests\n",
    "import pandas as pd\n",
    "import numpy as np"
   ]
  },
  {
   "cell_type": "code",
   "execution_count": 3,
   "metadata": {},
   "outputs": [],
   "source": [
    "# Make a map of league number code to league name\n",
    "url = f'https://fbref.com/en/comps/0/history/'\n",
    "page = requests.get(url)\n",
    "#header = page.text.split('</h1>')[0].split('<h1>')[-1]\n",
    "#' '.join(header.split('Seasons')[0].split('\\t')[-1].split())\n",
    "soup = BeautifulSoup(page.content, 'lxml')\n",
    "while soup.find('tr', class_='thead') is not None:\n",
    "    soup.find('tr', class_='thead').decompose()\n",
    "table = soup.find('table', id = 'comps_1_fa_club_league_senior')\n",
    "comps = pd.read_html(str(table))[0]\n",
    "comps['CODE'] = [int(x['href'].split('/')[3]) for x in list(table.find_all('a', href = True)) if 'comps' in x['href']][0::3]\n",
    "comps['fs_href'] = [x['href'] for x in list(table.find_all('a', href = True)) if 'comps' in x['href']][1::3]\n",
    "comps = comps.groupby('Gender').get_group('M')\n",
    "comps['Country'] = comps['Country'].apply(lambda x: x.split()[-1])\n",
    "comps['First Season'] = comps['First Season'].apply(lambda x: x[-4:]).astype(int)\n",
    "comps = comps.rename(columns = {'Competition Name': 'Competition'}).reset_index(drop = True)\n",
    "comps['title'] = comps['Country'] + ' ' + comps['Competition'].apply(lambda x: x.lower())\n",
    "comps = comps[['Competition', 'title', 'Country', 'First Season', 'CODE', 'fs_href']]\n",
    "#comps.to_csv('competitions.csv', index = None)"
   ]
  },
  {
   "cell_type": "code",
   "execution_count": 35,
   "metadata": {},
   "outputs": [],
   "source": [
    "url = 'https://fbref.com/en/comps/21/history/'\n",
    "page = requests.get(url)\n",
    "soup = BeautifulSoup(page.content, 'lxml')\n",
    "table = soup.find('table')\n",
    "df = pd.read_html(str(table))[0]"
   ]
  },
  {
   "cell_type": "code",
   "execution_count": 36,
   "metadata": {},
   "outputs": [],
   "source": [
    "df['href'] = [x['href'] for x in table.find_all('a', href = True) if 'comps' in x['href']][0::2]"
   ]
  },
  {
   "cell_type": "code",
   "execution_count": 37,
   "metadata": {},
   "outputs": [],
   "source": [
    "df['Year'] = df['Season'].apply(lambda x: x.split('-')[-1])\n",
    "df = df[['Season', 'Year', 'href']]"
   ]
  },
  {
   "cell_type": "code",
   "execution_count": 25,
   "metadata": {},
   "outputs": [],
   "source": [
    "header = page.text.split('</h1>')[0].split('<h1>')[-1] # Find the header of the page\n",
    "title = header.split(' ')[-1].split('\\n')[0] # Find the type of data the page contains"
   ]
  },
  {
   "cell_type": "code",
   "execution_count": 43,
   "metadata": {},
   "outputs": [],
   "source": [
    "fix = []\n",
    "for href in df['href'] :\n",
    "\n",
    "    url = 'https://fbref.com' + '/'.join(href.split('/')[:-1]) + '/schedule/'\n",
    "    page = requests.get(url)\n",
    "    soup = BeautifulSoup(page.content, 'lxml')\n",
    "    header = page.text.split('</h1>')[0].split('<h1>')[-1] # Find the header of the page\n",
    "    title = header.split(' ')[-1].split('\\n')[0] # Find the type of data the page contains\n",
    "\n",
    "    if soup.find('table') is not None and title == 'Fixtures':\n",
    "\n",
    "        fix.append(1)\n",
    "\n",
    "    else:\n",
    "        fix.append(0)\n"
   ]
  },
  {
   "cell_type": "code",
   "execution_count": 44,
   "metadata": {},
   "outputs": [
    {
     "data": {
      "text/html": [
       "<div>\n",
       "<style scoped>\n",
       "    .dataframe tbody tr th:only-of-type {\n",
       "        vertical-align: middle;\n",
       "    }\n",
       "\n",
       "    .dataframe tbody tr th {\n",
       "        vertical-align: top;\n",
       "    }\n",
       "\n",
       "    .dataframe thead th {\n",
       "        text-align: right;\n",
       "    }\n",
       "</style>\n",
       "<table border=\"1\" class=\"dataframe\">\n",
       "  <thead>\n",
       "    <tr style=\"text-align: right;\">\n",
       "      <th></th>\n",
       "      <th>Season</th>\n",
       "      <th>Year</th>\n",
       "      <th>href</th>\n",
       "      <th>fix</th>\n",
       "    </tr>\n",
       "  </thead>\n",
       "  <tbody>\n",
       "    <tr>\n",
       "      <th>0</th>\n",
       "      <td>2023</td>\n",
       "      <td>2023</td>\n",
       "      <td>/en/comps/21/Primera-Division-Stats</td>\n",
       "      <td>1</td>\n",
       "    </tr>\n",
       "    <tr>\n",
       "      <th>1</th>\n",
       "      <td>2022</td>\n",
       "      <td>2022</td>\n",
       "      <td>/en/comps/21/2022/2022-Primera-Division-Stats</td>\n",
       "      <td>1</td>\n",
       "    </tr>\n",
       "    <tr>\n",
       "      <th>2</th>\n",
       "      <td>2021</td>\n",
       "      <td>2021</td>\n",
       "      <td>/en/comps/21/2021/2021-Primera-Division-Stats</td>\n",
       "      <td>1</td>\n",
       "    </tr>\n",
       "    <tr>\n",
       "      <th>3</th>\n",
       "      <td>2019-2020</td>\n",
       "      <td>2020</td>\n",
       "      <td>/en/comps/21/2019-2020/2019-2020-Primera-Divis...</td>\n",
       "      <td>1</td>\n",
       "    </tr>\n",
       "    <tr>\n",
       "      <th>4</th>\n",
       "      <td>2018-2019</td>\n",
       "      <td>2019</td>\n",
       "      <td>/en/comps/21/2018-2019/2018-2019-Primera-Divis...</td>\n",
       "      <td>1</td>\n",
       "    </tr>\n",
       "    <tr>\n",
       "      <th>5</th>\n",
       "      <td>2017-2018</td>\n",
       "      <td>2018</td>\n",
       "      <td>/en/comps/21/2017-2018/2017-2018-Primera-Divis...</td>\n",
       "      <td>1</td>\n",
       "    </tr>\n",
       "    <tr>\n",
       "      <th>6</th>\n",
       "      <td>2016-2017</td>\n",
       "      <td>2017</td>\n",
       "      <td>/en/comps/21/2016-2017/2016-2017-Primera-Divis...</td>\n",
       "      <td>1</td>\n",
       "    </tr>\n",
       "    <tr>\n",
       "      <th>7</th>\n",
       "      <td>2016</td>\n",
       "      <td>2016</td>\n",
       "      <td>/en/comps/21/2016/2016-Primera-Division-Stats</td>\n",
       "      <td>1</td>\n",
       "    </tr>\n",
       "    <tr>\n",
       "      <th>8</th>\n",
       "      <td>2015</td>\n",
       "      <td>2015</td>\n",
       "      <td>/en/comps/21/2015/2015-Primera-Division-Stats</td>\n",
       "      <td>1</td>\n",
       "    </tr>\n",
       "    <tr>\n",
       "      <th>9</th>\n",
       "      <td>2014</td>\n",
       "      <td>2014</td>\n",
       "      <td>/en/comps/21/2014/2014-Primera-Division-Stats</td>\n",
       "      <td>0</td>\n",
       "    </tr>\n",
       "  </tbody>\n",
       "</table>\n",
       "</div>"
      ],
      "text/plain": [
       "      Season  Year                                               href  fix\n",
       "0       2023  2023                /en/comps/21/Primera-Division-Stats    1\n",
       "1       2022  2022      /en/comps/21/2022/2022-Primera-Division-Stats    1\n",
       "2       2021  2021      /en/comps/21/2021/2021-Primera-Division-Stats    1\n",
       "3  2019-2020  2020  /en/comps/21/2019-2020/2019-2020-Primera-Divis...    1\n",
       "4  2018-2019  2019  /en/comps/21/2018-2019/2018-2019-Primera-Divis...    1\n",
       "5  2017-2018  2018  /en/comps/21/2017-2018/2017-2018-Primera-Divis...    1\n",
       "6  2016-2017  2017  /en/comps/21/2016-2017/2016-2017-Primera-Divis...    1\n",
       "7       2016  2016      /en/comps/21/2016/2016-Primera-Division-Stats    1\n",
       "8       2015  2015      /en/comps/21/2015/2015-Primera-Division-Stats    1\n",
       "9       2014  2014      /en/comps/21/2014/2014-Primera-Division-Stats    0"
      ]
     },
     "execution_count": 44,
     "metadata": {},
     "output_type": "execute_result"
    }
   ],
   "source": [
    "df['fix'] = fix\n",
    "df"
   ]
  },
  {
   "cell_type": "code",
   "execution_count": 52,
   "metadata": {},
   "outputs": [
    {
     "data": {
      "text/plain": [
       "datetime.datetime(2023, 5, 2, 0, 0)"
      ]
     },
     "execution_count": 52,
     "metadata": {},
     "output_type": "execute_result"
    }
   ],
   "source": [
    "from datetime import datetime, timedelta\n",
    "\n",
    "datetime(datetime.today().year, datetime.today().month, datetime.today().day)"
   ]
  },
  {
   "cell_type": "code",
   "execution_count": 47,
   "metadata": {},
   "outputs": [
    {
     "ename": "TypeError",
     "evalue": "can only concatenate str (not \"datetime.timedelta\") to str",
     "output_type": "error",
     "traceback": [
      "\u001b[0;31m---------------------------------------------------------------------------\u001b[0m",
      "\u001b[0;31mTypeError\u001b[0m                                 Traceback (most recent call last)",
      "Cell \u001b[0;32mIn[47], line 1\u001b[0m\n\u001b[0;32m----> 1\u001b[0m \u001b[43mdatetime\u001b[49m\u001b[38;5;241;43m.\u001b[39;49m\u001b[43mtoday\u001b[49m\u001b[43m(\u001b[49m\u001b[43m)\u001b[49m\u001b[38;5;241;43m.\u001b[39;49m\u001b[43mstrftime\u001b[49m\u001b[43m(\u001b[49m\u001b[38;5;124;43m'\u001b[39;49m\u001b[38;5;124;43m%\u001b[39;49m\u001b[38;5;124;43mY-\u001b[39;49m\u001b[38;5;124;43m%\u001b[39;49m\u001b[38;5;124;43mm-\u001b[39;49m\u001b[38;5;132;43;01m%d\u001b[39;49;00m\u001b[38;5;124;43m'\u001b[39;49m\u001b[43m)\u001b[49m\u001b[43m \u001b[49m\u001b[38;5;241;43m+\u001b[39;49m\u001b[43m \u001b[49m\u001b[43mtimedelta\u001b[49m\u001b[43m(\u001b[49m\u001b[43mdays\u001b[49m\u001b[43m \u001b[49m\u001b[38;5;241;43m=\u001b[39;49m\u001b[43m \u001b[49m\u001b[38;5;241;43m2\u001b[39;49m\u001b[43m)\u001b[49m\n",
      "\u001b[0;31mTypeError\u001b[0m: can only concatenate str (not \"datetime.timedelta\") to str"
     ]
    }
   ],
   "source": [
    "datetime.today().strftime('%Y-%m-%d') + timedelta(days = 2)"
   ]
  },
  {
   "cell_type": "code",
   "execution_count": 53,
   "metadata": {},
   "outputs": [],
   "source": [
    "dic = {0:1, 2:3}"
   ]
  },
  {
   "cell_type": "code",
   "execution_count": 58,
   "metadata": {},
   "outputs": [
    {
     "name": "stdout",
     "output_type": "stream",
     "text": [
      "0 1\n",
      "2 3\n"
     ]
    }
   ],
   "source": [
    "for a, b in dic.items():\n",
    "    print(a, b)"
   ]
  },
  {
   "cell_type": "code",
   "execution_count": null,
   "metadata": {},
   "outputs": [],
   "source": []
  }
 ],
 "metadata": {
  "kernelspec": {
   "display_name": "Python 3.10.10 ('nbaenv')",
   "language": "python",
   "name": "python3"
  },
  "language_info": {
   "codemirror_mode": {
    "name": "ipython",
    "version": 3
   },
   "file_extension": ".py",
   "mimetype": "text/x-python",
   "name": "python",
   "nbconvert_exporter": "python",
   "pygments_lexer": "ipython3",
   "version": "3.10.10"
  },
  "orig_nbformat": 4,
  "vscode": {
   "interpreter": {
    "hash": "8158d229fe7301e640acb43d488c0efce3cd8ada31ff414dc1808c070c07cefa"
   }
  }
 },
 "nbformat": 4,
 "nbformat_minor": 2
}
